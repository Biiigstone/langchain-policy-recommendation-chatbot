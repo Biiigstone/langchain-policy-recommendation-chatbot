{
 "cells": [
  {
   "cell_type": "code",
   "execution_count": 1,
   "id": "e8f1f53c-3fba-4e92-ac19-4cb4920d4d5e",
   "metadata": {},
   "outputs": [],
   "source": [
    "# 이걸 잠시 하다보니 다른 생각이 든다..\n",
    "# 필터링을 위한 메타데이터..가 존재해야하나? 벡터 db에서 필터링을 해야하나?\n",
    "# 단순히 연산이 작아보이고 쉬워보여서.. 대충 메타데이터에 넣고, 벡터db에서 필터링 하게 한 게 잘못된 건 아닐까?\n",
    "# 그냥 이러한 필터링 자체는 최대한 rdb 단에서 수행하고, 메타데이터와 벡터db의 사용을 최적화 하는 게 더 좋지 않을까?\n",
    "# => 그렇게 하자. 처음부터 다시하자."
   ]
  },
  {
   "cell_type": "raw",
   "id": "6e1426c2-9d61-4677-b74b-c8f0c4ff240a",
   "metadata": {},
   "source": [
    "우리가 RDB로 관리할 필드는.. 특히 필터링과 관련된 필드들..\n",
    "\n",
    "plcyId : PK. \n",
    "\n",
    "A. 사용자 조건 필터\n",
    "- location : 거주지 정보(zipCd 변환 필요)\n",
    "- min_age / max_age : 지원 최소/최대 연령\n",
    "- job_status : 취업 상태(jobCd 변환 필요)\n",
    "- education_level : 학력 요건 (schoolCd 변환 필요)\n",
    "- major : 전공 요건(plcyMajorCd 변환 필요)\n",
    "- income_min / income_max : 소득 최소 최대.\n",
    "\n",
    "B. 정책 내용 기반 필터 \n",
    "- category : 정책 대분류\n",
    "- category_sub : 중분류\n",
    "- keyword : 정책 키워드(예: 대출, 보조금) zipCd와 마찬가지로 정규화 필요\n",
    "\n",
    "C. 기간 및 상태 필터(Time/Status Filters)\n",
    "- biz_start_date / biz_end_date : 사업 시작일 / 종료일\n",
    "- aply_start_date / aply_end_date : 지원 시작일 / 종료일\n",
    "- aplyPrdSeCd : 상시인지 아닌지? 이거 필요한가.. 일단 적어"
   ]
  },
  {
   "cell_type": "raw",
   "id": "98331b32-5944-41b9-9d37-375c8e309de8",
   "metadata": {},
   "source": [
    "필드로 관리할 코드는.. \n",
    "신청기간구분코드(자연어 필드로 충분), 사업기간구분코드(자연어 필드로 충분), 결혼상태코드(자연어 필드로 충분), 소득 조건(자연어 필드로 충분)이고 \n",
    "\n",
    "테이블로 관리할 코드는..\n",
    "정책전공요건코드(o), 정책취업요건코드(o), 정책학력요건코드(o), 정책특화 요건 코드(o), 정책 대분류(o), 정책 중분류(o), 정책 키워드(o).\n",
    "\n",
    "+ 지역 코드(zip) (o)"
   ]
  },
  {
   "cell_type": "code",
   "execution_count": 9,
   "id": "4c2ab570-25e6-4c94-a2a6-aaf051d73811",
   "metadata": {},
   "outputs": [],
   "source": [
    "def populate_code_tables(cursor):\n",
    "    \"\"\"\n",
    "    엑셀 파일의 각 시트를 읽어 코드 테이블에 데이터를 삽입합니다.\n",
    "    \"\"\"\n",
    "    print(\"🚀 코드 테이블 데이터 이관 시작...\")\n",
    "\n",
    "    try:\n",
    "        # 테이블과 시트 이름, 그리고 해당 시트 내의 컬럼명을 매핑합니다.\n",
    "        # 시트 이름은 실제 엑셀 파일의 시트 이름과 정확히 일치해야 합니다.\n",
    "        code_sheets_map = {\n",
    "            'major_codes': ('코드정보', 'plcyMajorCd', '코드', '코드내용'),\n",
    "            'job_status_codes': ('코드정보', 'jobCd', '코드', '코드내용'),\n",
    "            'education_level_codes': ('코드정보', 'schoolCd', '코드', '코드내용'),\n",
    "            'specialization_codes': ('코드정보', 'sBizCd', '코드', '코드내용'),\n",
    "            'category_codes': ('정책대분류', None, '번호', '정책대분류명(lclsfNm)'),\n",
    "            'subcategory_codes': ('정책중분류', None, '번호', '정책중분류명(mclsfNm)'),\n",
    "            'keywords': ('정책키워드', None, None, '정책키워드명(plcyKywdNm)')\n",
    "        }\n",
    "        \n",
    "        for table_name, (sheet_name, filter_col, code_col, name_col) in code_sheets_map.items():\n",
    "            print(f\"  - 테이블 '{table_name}' 작업 중 (시트: '{sheet_name}')...\")\n",
    "            # read_excel을 사용하여 특정 시트를 읽어옵니다.\n",
    "            df = pd.read_excel(excel_file_path, sheet_name=sheet_name)\n",
    "            \n",
    "            # '코드정보' 시트의 경우, 특정 분류(jobCd 등)로 필터링\n",
    "            if filter_col:\n",
    "                df = df[df['분류'] == filter_col].copy()\n",
    "            \n",
    "            insert_sql = \"\"\n",
    "            # 각 테이블 구조에 맞게 데이터 준비 및 INSERT\n",
    "            if table_name == 'keywords':\n",
    "                insert_sql = f\"INSERT INTO {table_name} (name) VALUES (%s)\"\n",
    "                data_to_insert = [(row[name_col],) for index, row in df.iterrows() if pd.notna(row[name_col])]\n",
    "            else:\n",
    "                insert_sql = f\"INSERT INTO {table_name} (code, name) VALUES (%s, %s)\"\n",
    "                data_to_insert = [(str(row[code_col]), row[name_col]) for index, row in df.iterrows() if pd.notna(row[code_col]) and pd.notna(row[name_col])]\n",
    "            \n",
    "            cursor.executemany(insert_sql, data_to_insert)\n",
    "            print(f\"    ✅ {cursor.rowcount}개 행 삽입 완료.\")\n",
    "\n",
    "    except FileNotFoundError:\n",
    "        print(f\"🚨 오류: 엑셀 파일('{excel_file_path}')을 찾을 수 없습니다. 파일 이름과 경로를 확인하세요.\")\n",
    "        raise\n",
    "    except Exception as e:\n",
    "        print(f\"🚨 오류: 코드 테이블 이관 중 문제 발생 - {e}\")\n",
    "        raise\n"
   ]
  },
  {
   "cell_type": "code",
   "execution_count": 10,
   "id": "40c0d03e-e5eb-44aa-83be-187dee5b4dd9",
   "metadata": {},
   "outputs": [],
   "source": [
    "db_config = {\n",
    "    'host': 'localhost',\n",
    "    'user': 'root',\n",
    "    'password': '1234',\n",
    "    'database': 'toyprj4'\n",
    "}\n",
    "\n",
    "# 엑셀 파일 이름 (사용자님이 변경하신 이름)\n",
    "excel_file_path = './code_table.xlsx'"
   ]
  },
  {
   "cell_type": "code",
   "execution_count": 14,
   "id": "04a35a3a-7253-44a7-96df-408ea9294e64",
   "metadata": {},
   "outputs": [
    {
     "name": "stdout",
     "output_type": "stream",
     "text": [
      "✅ 데이터베이스 연결 성공!\n",
      "🚀 코드 테이블 데이터 이관 시작...\n",
      "  - 테이블 'major_codes' 작업 중 (시트: '코드정보')...\n",
      "    ✅ 1개 행 삽입 완료.\n",
      "  - 테이블 'job_status_codes' 작업 중 (시트: '코드정보')...\n",
      "    ✅ 1개 행 삽입 완료.\n",
      "  - 테이블 'education_level_codes' 작업 중 (시트: '코드정보')...\n",
      "    ✅ 1개 행 삽입 완료.\n",
      "  - 테이블 'specialization_codes' 작업 중 (시트: '코드정보')...\n",
      "    ✅ 1개 행 삽입 완료.\n",
      "  - 테이블 'category_codes' 작업 중 (시트: '정책대분류')...\n",
      "    ✅ 5개 행 삽입 완료.\n",
      "  - 테이블 'subcategory_codes' 작업 중 (시트: '정책중분류')...\n",
      "    ✅ 17개 행 삽입 완료.\n",
      "  - 테이블 'keywords' 작업 중 (시트: '정책키워드')...\n",
      "    ✅ 17개 행 삽입 완료.\n"
     ]
    }
   ],
   "source": [
    "connection = None\n",
    "connection = mysql.connector.connect(**db_config)\n",
    "cursor = connection.cursor()\n",
    "print(\"✅ 데이터베이스 연결 성공!\")\n",
    "\n",
    "populate_code_tables(cursor)"
   ]
  },
  {
   "cell_type": "code",
   "execution_count": 16,
   "id": "f11da2b4-45e7-4ee0-9ecf-d71f092af519",
   "metadata": {},
   "outputs": [
    {
     "name": "stdout",
     "output_type": "stream",
     "text": [
      "\n",
      "🎉 모든 작업이 성공적으로 완료되었습니다.\n"
     ]
    }
   ],
   "source": [
    "connection.commit()\n",
    "print(\"\\n🎉 모든 작업이 성공적으로 완료되었습니다.\")"
   ]
  },
  {
   "cell_type": "code",
   "execution_count": 13,
   "id": "da6c0482-327c-4b4f-af51-28e6c70c305b",
   "metadata": {},
   "outputs": [],
   "source": [
    "# connection.rollback()"
   ]
  },
  {
   "cell_type": "raw",
   "id": "94014360-9f1f-4a3b-ad49-ad7e1e5a543c",
   "metadata": {},
   "source": [
    "잘 되었는지 확인하기\n",
    "중분류 o 정책특화 o\n",
    "키워드 o 대분류 o\n",
    "\n",
    "나머진 그냥 수동으로 삽입하자. 어차피 많지도 않고..\n",
    "\n",
    "정책 데이터 이관이나 고민할 것\n",
    "(내일 할거) \n",
    "대충 생각하기론.. 여기서 pandas 사용해서 필요한 필드만 우선 추출\n",
    "변환 필요한 필드들 가공\n",
    "csv(또는 json)로 만든 뒤 db에 삽입.\n",
    "\n"
   ]
  },
  {
   "cell_type": "raw",
   "id": "3ddff28d-d508-4bcc-b3fd-2c50c20d4d2a",
   "metadata": {},
   "source": [
    "아.. 다시해야한다.. \n",
    "그냥 직접 쓰자 하..\n",
    "\n",
    "일단 코드 테이블은 다 만들었는데.. \n",
    "매핑 테이블이 얼마나 필요한지 다시 생각해보자..\n",
    "몇몇개는 필드로 들어가도 되지만.. 다른 몇몇개는 매핑으로 풀어야 한다..\n",
    "데이터 좀 확인해보자..\n",
    " \n",
    "학력 제한 코드 => 코드,2개 이상인 경우 존재 => 코드 테이블, 매핑 테이블\n",
    "직업 코드 => 코드. 2개 이상인 경우 존재 => 코드 테이블, 매핑 테이블\n",
    "전공 코드 => 코드, 2개 이상인 경우 존재 => 코드 테이블, 매핑 태이블\n",
    "특화 코드 => 코드, 2개 이상인 경우 존재 => 코드 테이블, 매핑 테이블\n",
    "\n",
    "\n",
    "지역 코드 => 상당히 다수에 5자. 3자로 분리 및 코드 테이블, 매핑 테이블\n",
    "\n",
    "정책 대분류/정책 중분류 => 2개 이상 있는 경우 확인 완료. 특히 코드로 된 게 아니고 자연어로 되어있음\n",
    "=> 코드 테이블 삭제, only 매핑 테이블만.. 매핑 테이블에 자연어로 작성.\n",
    "\n",
    "정책 키워드 명 => 마찬가지로 자연어 테이블.. 2개 이상 있는 경우 있으니 매핑 테이블만 사용하자. \n",
    "\n",
    "---\n",
    "구분자는 ',' \n",
    "\n",
    "\n",
    "\n"
   ]
  },
  {
   "cell_type": "code",
   "execution_count": null,
   "id": "b27fdb44-084f-4806-8aec-9337fed571fb",
   "metadata": {},
   "outputs": [],
   "source": []
  }
 ],
 "metadata": {
  "kernelspec": {
   "display_name": "langchain_spike",
   "language": "python",
   "name": "langchain_spike"
  },
  "language_info": {
   "codemirror_mode": {
    "name": "ipython",
    "version": 3
   },
   "file_extension": ".py",
   "mimetype": "text/x-python",
   "name": "python",
   "nbconvert_exporter": "python",
   "pygments_lexer": "ipython3",
   "version": "3.11.13"
  }
 },
 "nbformat": 4,
 "nbformat_minor": 5
}
