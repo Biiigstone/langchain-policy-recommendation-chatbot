{
 "cells": [
  {
   "cell_type": "code",
   "execution_count": 8,
   "id": "af2aea67-6416-4bb2-9a32-517b2b1380c8",
   "metadata": {},
   "outputs": [
    {
     "data": {
      "text/plain": [
       "True"
      ]
     },
     "execution_count": 8,
     "metadata": {},
     "output_type": "execute_result"
    }
   ],
   "source": [
    "# data 가져와서 로컬에 json파일로 저장하기\n",
    "\n",
    "import requests\n",
    "import json\n",
    "import os\n",
    "from dotenv import load_dotenv\n",
    "load_dotenv()\n"
   ]
  },
  {
   "cell_type": "code",
   "execution_count": 9,
   "id": "966b3b07-8086-48ad-9ae1-bba74fc7f9b7",
   "metadata": {},
   "outputs": [],
   "source": [
    "output_filename = \"policy_data.json\"\n",
    "# url = \"https://www.youthcenter.go.kr/go/ythip/getPlcy?apiKeyNm=48c9dd8c-5326-4540-9996-54555753002f&pageNum=1&pageSize=2&rtnType=json\"\n",
    "url = \"https://www.youthcenter.go.kr/go/ythip/getPlcy?apiKeyNm=48c9dd8c-5326-4540-9996-54555753002f&rtnType=json\"\n",
    "\n"
   ]
  },
  {
   "cell_type": "code",
   "execution_count": 10,
   "id": "8966e5c3-376d-43de-b7be-31865f73634b",
   "metadata": {},
   "outputs": [
    {
     "name": "stdout",
     "output_type": "stream",
     "text": [
      "JSON 데이터를 'policy_data.json' 파일에 성공적으로 저장했습니다.\n",
      "저장된 파일 경로: /home/jang/fastcampus/KDT_BE12_Toy_Project4/spike/shinwon-Jang/rag/policy_data.json\n"
     ]
    }
   ],
   "source": [
    "\n",
    "try:\n",
    "    response = requests.get(url)\n",
    "    response.raise_for_status() # HTTP 오류가 발생하면 예외 발생\n",
    "\n",
    "    # 2. JSON 응답 파싱\n",
    "    data_to_save = response.json()\n",
    "\n",
    "    # 3. JSON 데이터를 파일로 저장\n",
    "    # 'w' 모드는 쓰기 모드 (파일이 없으면 생성, 있으면 덮어씀)\n",
    "    # 'utf-8' 인코딩은 한글 등 다양한 문자를 처리하는 데 필수적\n",
    "    # indent=4는 JSON 파일을 들여쓰기하여 사람이 읽기 쉽게 만듭니다.\n",
    "    with open(output_filename, 'w', encoding='utf-8') as f:\n",
    "        json.dump(data_to_save, f, ensure_ascii=False, indent=4)\n",
    "\n",
    "    print(f\"JSON 데이터를 '{output_filename}' 파일에 성공적으로 저장했습니다.\")\n",
    "    # 파일이 저장된 절대 경로 확인 (선택 사항)\n",
    "    print(f\"저장된 파일 경로: {os.path.abspath(output_filename)}\")\n",
    "\n",
    "except requests.exceptions.RequestException as e:\n",
    "    print(f\"API 호출 에러: {e}\")\n",
    "except json.JSONDecodeError as e:\n",
    "    print(f\"JSON 디코딩 에러: {e}. 응답 본문: {response.text}\")\n",
    "except Exception as e:\n",
    "    print(f\"파일 저장 중 알 수 없는 에러 발생: {e}\")"
   ]
  },
  {
   "cell_type": "code",
   "execution_count": 2,
   "id": "ebfad8ac-28e9-4f76-a5e9-7d5f8dec928b",
   "metadata": {},
   "outputs": [],
   "source": [
    "import pandas as pd\n"
   ]
  },
  {
   "cell_type": "code",
   "execution_count": 5,
   "id": "f5687d18-aa76-4b64-8229-06e4a89c29cc",
   "metadata": {},
   "outputs": [],
   "source": [
    "a = pd.read_csv(\"./policy_data.csv\").head(5)"
   ]
  },
  {
   "cell_type": "code",
   "execution_count": 7,
   "id": "701e192c-6063-49be-b959-1a6f2e0e361a",
   "metadata": {},
   "outputs": [],
   "source": [
    "a.to_csv(\"./test.csv\")"
   ]
  },
  {
   "cell_type": "code",
   "execution_count": null,
   "id": "fd8d1632-1f05-435e-85dc-f3fe8ed51460",
   "metadata": {},
   "outputs": [],
   "source": []
  }
 ],
 "metadata": {
  "kernelspec": {
   "display_name": "langchain_spike",
   "language": "python",
   "name": "langchain_spike"
  },
  "language_info": {
   "codemirror_mode": {
    "name": "ipython",
    "version": 3
   },
   "file_extension": ".py",
   "mimetype": "text/x-python",
   "name": "python",
   "nbconvert_exporter": "python",
   "pygments_lexer": "ipython3",
   "version": "3.11.13"
  }
 },
 "nbformat": 4,
 "nbformat_minor": 5
}
