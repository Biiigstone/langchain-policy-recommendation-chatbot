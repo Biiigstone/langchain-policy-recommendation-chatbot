{
 "cells": [
  {
   "cell_type": "code",
   "execution_count": 2,
   "id": "95b5bc12-6706-4a3f-bf0e-5ceb49efbc26",
   "metadata": {},
   "outputs": [],
   "source": [
    "import pandas as pd\n",
    "import numpy as np\n"
   ]
  },
  {
   "cell_type": "code",
   "execution_count": 9,
   "id": "de9a1372-3f16-4fc0-9379-2611cd56579c",
   "metadata": {},
   "outputs": [],
   "source": [
    "# data = pd.read_csv(\"./policy_data.csv\")\n",
    "data = pd.read_csv(\"./policies_with_documents.csv\")\n"
   ]
  },
  {
   "cell_type": "code",
   "execution_count": 27,
   "id": "a62fea1e-9e58-4983-b42f-312bf9f07593",
   "metadata": {},
   "outputs": [
    {
     "data": {
      "text/plain": [
       "0       43001.0\n",
       "1       43001.0\n",
       "2       43001.0\n",
       "3       43001.0\n",
       "4       43001.0\n",
       "         ...   \n",
       "3665    43003.0\n",
       "3790    43001.0\n",
       "3809    43001.0\n",
       "3849    43001.0\n",
       "3860    43001.0\n",
       "Name: earnCndSeCd, Length: 1038, dtype: float64"
      ]
     },
     "execution_count": 27,
     "metadata": {},
     "output_type": "execute_result"
    }
   ],
   "source": [
    "# etcMttrCn, refUrlAddr1, refUrlAddr2\n",
    "df = data[data['earnCndSeCd'].notna()]\n",
    "df['earnCndSeCd']"
   ]
  },
  {
   "cell_type": "code",
   "execution_count": 11,
   "id": "3ee11792-a6a5-41e5-a12d-c6cf54e4ae19",
   "metadata": {},
   "outputs": [
    {
     "data": {
      "text/plain": [
       "396    문 의 처 : 283-7203~4\n",
       "Name: etcMttrCn, dtype: object"
      ]
     },
     "execution_count": 11,
     "metadata": {},
     "output_type": "execute_result"
    }
   ],
   "source": [
    "df[24:25]['etcMttrCn']"
   ]
  },
  {
   "cell_type": "code",
   "execution_count": 31,
   "id": "96c8c34a-f995-4a7c-b1ad-3294a482736a",
   "metadata": {},
   "outputs": [
    {
     "data": {
      "text/plain": [
       "0       43001.0\n",
       "1       43001.0\n",
       "2       43001.0\n",
       "3       43001.0\n",
       "4       43001.0\n",
       "         ...   \n",
       "3662    43001.0\n",
       "3790    43001.0\n",
       "3809    43001.0\n",
       "3849    43001.0\n",
       "3860    43001.0\n",
       "Name: earnCndSeCd, Length: 894, dtype: float64"
      ]
     },
     "execution_count": 31,
     "metadata": {},
     "output_type": "execute_result"
    }
   ],
   "source": [
    "df = data[data['earnCndSeCd'] == 43001.0]\n",
    "\n",
    "df['earnCndSeCd']"
   ]
  },
  {
   "cell_type": "code",
   "execution_count": 10,
   "id": "dca19991-0158-4700-8573-86332c1bfa64",
   "metadata": {},
   "outputs": [],
   "source": [
    "n_d = pd.DataFrame(data.head(1))"
   ]
  },
  {
   "cell_type": "code",
   "execution_count": null,
   "id": "be307b70-0892-48f2-847d-c624df704aa0",
   "metadata": {},
   "outputs": [],
   "source": []
  },
  {
   "cell_type": "code",
   "execution_count": 11,
   "id": "c4f7353e-d11a-42b8-8246-e971b30cd2db",
   "metadata": {},
   "outputs": [],
   "source": [
    "n_d.to_csv('./temp_test_docs.csv')"
   ]
  },
  {
   "cell_type": "code",
   "execution_count": null,
   "id": "e1c733ac-1ff8-4e49-9f54-a9030d837458",
   "metadata": {},
   "outputs": [],
   "source": []
  }
 ],
 "metadata": {
  "kernelspec": {
   "display_name": "langchain_spike",
   "language": "python",
   "name": "langchain_spike"
  },
  "language_info": {
   "codemirror_mode": {
    "name": "ipython",
    "version": 3
   },
   "file_extension": ".py",
   "mimetype": "text/x-python",
   "name": "python",
   "nbconvert_exporter": "python",
   "pygments_lexer": "ipython3",
   "version": "3.11.13"
  }
 },
 "nbformat": 4,
 "nbformat_minor": 5
}
