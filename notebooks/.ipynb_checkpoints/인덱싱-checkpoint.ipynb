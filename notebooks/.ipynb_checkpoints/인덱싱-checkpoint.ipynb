{
 "cells": [
  {
   "cell_type": "code",
   "execution_count": null,
   "id": "dc249d07-4c7b-4f96-8a78-481f2e30395e",
   "metadata": {},
   "outputs": [],
   "source": [
    "# 인덱싱 전략\n",
    "# 1. 청킹은.. 하지 말까? 할까? 의미 단위 청킹?\n",
    "# => 정책의 범위 바깥에서 청킹된 각 정보는 유의미할까? 정책이라는 틀이 없이 지원 조건, 정책 설명 내용 등이 유의미한가?\n",
    "# 2. page_content는 벡터 서칭용으로만 사용하고, context로는 metadata 섹션을 활용하여 원문을 전달한다.\n",
    "# 3. 이때, 원문 중 필요한 정보만 선별하여 metadata에 적재한다.\n",
    "\n"
   ]
  },
  {
   "cell_type": "code",
   "execution_count": null,
   "id": "3b56d576-3bc2-4694-99b8-5696b67e2ed3",
   "metadata": {
    "tags": []
   },
   "outputs": [],
   "source": [
    "# 1. 벡터 서칭용 컬럼을 추가한 csv 로드.\n",
    "import pandas as pd\n",
    "\n",
    "data = pd.read_csv('./policies_with_documents.csv')\n",
    "data.head()"
   ]
  },
  {
   "cell_type": "code",
   "execution_count": null,
   "id": "d876eb15-8b8f-4138-ac80-4b2cf0fd2495",
   "metadata": {},
   "outputs": [],
   "source": [
    "# 2. metadata로 적재할 컬럼 지정\n",
    "# 온통 청년 API 제공 목록 페이지를 참고."
   ]
  },
  {
   "cell_type": "raw",
   "id": "ff830103-001a-4ffa-97d2-188eea9936f4",
   "metadata": {
    "tags": []
   },
   "source": [
    "plcyNo\t정책번호\n",
    "plcyPvsnMthdCd\t정책제공방법코드\n",
    "plcyNm\t정책명\n",
    "plcyKywdNm\t정책키워드명\n",
    "plcyExplnCn\t정책설명내용\n",
    "lclsfNm\t정책대분류명\n",
    "mclsfNm\t정책중분류명\n",
    "plcySprtCn\t정책지원내용\n",
    "sprvsnInstCdNm\t주관기관코드명\n",
    "operInstCdNm\t운영기관코드명\n",
    "operInstPicNm\t운영기관담당자명\n",
    "sprtSclLmtYn\t지원규모제한여부\n",
    "aplyPrdSeCd\t신청기간구분코드\n",
    "bizPrdSeCd\t사업기간구분코드\n",
    "bizPrdBgngYmd\t사업기간시작일자\n",
    "bizPrdEndYmd\t사업기간종료일자\n",
    "bizPrdEtcCn\t사업기간기타내용\n",
    "plcyAplyMthdCn\t정책신청방법내용\n",
    "srngMthdCn\t심사방법내용\n",
    "aplyUrlAddr\t신청URL주소\n",
    "sbmsnDcmntCn\t제출서류내용\n",
    "etcMttrCn\t기타사항내용\n",
    "refUrlAddr1\t참고URL주소1\n",
    "refUrlAddr2\t참고URL주소2\n",
    "sprtTrgtMinAge\t지원대상최소연령\n",
    "sprtTrgtMaxAge\t지원대상최대연령\n",
    "sprtTrgtAgeLmtYn\t지원대상연령제한여부\n",
    "mrgSttsCd\t결혼상태코드\n",
    "earnMinAmt\t소득최소금액\n",
    "earnMaxAmt\t소득최대금액\n",
    "earnEtcCn\t소득기타내용\n",
    "addAplyQlfcCndCn\t추가신청자격조건내용\n",
    "ptcpPrpTrgtCn\t참여제안대상내용\n",
    "zipCd\t정책거주지역코드\n",
    "plcyMajorCd\t정책전공요건코드\n",
    "jobCd\t정책취업요건코드\n",
    "schoolCd\t정책학력요건코드\n",
    "aplyYmd\t신청기간\n",
    "frstRegDt\t최초등록일시\n",
    "lastMdfcnDt\t최종수정일시\n",
    "sbizCd\t정책특화요건코드"
   ]
  },
  {
   "cell_type": "code",
   "execution_count": null,
   "id": "01427ca7-ee0c-4795-b549-f785eb39e122",
   "metadata": {},
   "outputs": [],
   "source": [
    "# 도큐먼트로 만들기\n",
    "\n",
    "import csv\n",
    "from langchain_core.documents import Document\n",
    "\n",
    "def create_documents_from_csv(csv_file_path: str) -> list[Document]:\n",
    "    \"\"\"\n",
    "    CSV 파일에서 정책 정보를 읽어와\n",
    "    LangChain의 Document 객체 리스트로 변환합니다.\n",
    "\n",
    "    - 각 row는 하나의 정책 데이터를 나타냅니다.\n",
    "    - 서술형 정보는 page_content로 조합합니다.\n",
    "    - 정형 정보는 metadata로 저장합니다.\n",
    "    \"\"\"\n",
    "    \n",
    "    documents = []\n",
    "    \n",
    "    try:\n",
    "        # UTF-8 인코딩으로 CSV 파일을 엽니다.\n",
    "        with open(csv_file_path, mode='r', encoding='utf-8-sig') as csvfile:\n",
    "            # 각 row를 딕셔너리 형태로 읽어옵니다.\n",
    "            reader = csv.DictReader(csvfile)\n",
    "            \n",
    "            for row in reader:\n",
    "                # 1. page_content 구성: 검색의 대상이 될 자연어 텍스트\n",
    "                page_content = row.get('document')\n",
    "\n",
    "                # 2. metadata 구성: 필터링 및 출처 표시에 사용할 정형 데이터\n",
    "                # 항상 원본값 그대로\n",
    "                metadata = {\n",
    "                    # 정책 기본 정보\n",
    "                    \"plcyNo\": row.get('plcyNo', '정보 없음'),\n",
    "                    \"plcyNm\": row.get('plcyNm', '정보 없음'),\n",
    "                    \"plcyKywdNm\": row.get('plcyKywdNm', '정보 없음'),\n",
    "                    \"plcyExplnCn\": row.get('plcyExplnCn', '정보 없음'),\n",
    "                    \"lclsfNm\": row.get('lclsfNm', '정보 없음'),\n",
    "                    \"mclsfNm\": row.get('mclsfNm', '정보 없음'),\n",
    "                    \"plcySprtCn\": row.get('plcySprtCn', '정보 없음'),\n",
    "                    \"plcyPvsnMthdCd\": row.get('plcyPvsnMthdCd', '정보 없음'),\n",
    "\n",
    "                    # 기관 정보\n",
    "                    \"sprvsnInstCdNm\": row.get('sprvsnInstCdNm', '정보 없음'),\n",
    "                    \"operInstCdNm\": row.get('operInstCdNm', '정보 없음'),\n",
    "\n",
    "                    # 기간 정보\n",
    "                    \"aplyPrdSeCd\": row.get('aplyPrdSeCd', '정보 없음'),\n",
    "                    \"bizPrdSeCd\": row.get('bizPrdSeCd', '정보 없음'),\n",
    "                    \"bizPrdBgngYmd\": row.get('bizPrdBgngYmd', '정보 없음'),\n",
    "                    \"bizPrdEndYmd\": row.get('bizPrdEndYmd', '정보 없음'),\n",
    "                    \"bizPrdEtcCn\": row.get('bizPrdEtcCn', '정보 없음'),\n",
    "                    \"aplyYmd\": row.get('aplyYmd', '정보 없음'),\n",
    "                    \"frstRegDt\": row.get('frstRegDt', '정보 없음'),\n",
    "                    \"lastMdfcnDt\": row.get('lastMdfcnDt', '정보 없음'),\n",
    "\n",
    "                    # 신청 및 방법\n",
    "                    \"plcyAplyMthdCn\": row.get('plcyAplyMthdCn', '정보 없음'),\n",
    "                    \"srngMthdCn\": row.get('srngMthdCn', '정보 없음'),\n",
    "                    \"sbmsnDcmntCn\": row.get('sbmsnDcmntCn', '정보 없음'),\n",
    "                    \"aplyUrlAddr\": row.get('aplyUrlAddr', '정보 없음'),\n",
    "\n",
    "                    # 지원 조건\n",
    "                    \"sprtSclLmtYn\": row.get('sprtSclLmtYn', '정보 없음'),\n",
    "                    \"sprtTrgtMinAge\": row.get('sprtTrgtMinAge', '정보 없음'),\n",
    "                    \"sprtTrgtMaxAge\": row.get('sprtTrgtMaxAge', '정보 없음'),\n",
    "                    \"sprtTrgtAgeLmtYn\": row.get('sprtTrgtAgeLmtYn', '정보 없음'),\n",
    "                    \"mrgSttsCd\": row.get('mrgSttsCd', '정보 없음'),\n",
    "                    \"earnMinAmt\": row.get('earnMinAmt', '정보 없음'),\n",
    "                    \"earnMaxAmt\": row.get('earnMaxAmt', '정보 없음'),\n",
    "                    \"earnEtcCn\": row.get('earnEtcCn', '정보 없음'),\n",
    "                    \"addAplyQlfcCndCn\": row.get('addAplyQlfcCndCn', '정보 없음'),\n",
    "                    \"ptcpPrpTrgtCn\": row.get('ptcpPrpTrgtCn', '정보 없음'),\n",
    "\n",
    "                    # 요건 코드(target, 대상)\n",
    "                    \"zipCd\": row.get('zipCd', '정보 없음'),\n",
    "                    \"plcyMajorCd\": row.get('plcyMajorCd', '정보 없음'),\n",
    "                    \"jobCd\": row.get('jobCd', '정보 없음'),\n",
    "                    \"schoolCd\": row.get('schoolCd', '정보 없음'),\n",
    "                    \"sbizCd\": row.get('sbizCd', '정보 없음'),\n",
    "\n",
    "                    # 기타\n",
    "                    \"etcMttrCn\": row.get('etcMttrCn', '정보 없음'),\n",
    "                    \"refUrlAddr1\": row.get('refUrlAddr1', '정보 없음'),\n",
    "                    \"refUrlAddr2\": row.get('refUrlAddr2', '정보 없음'),\n",
    "                    \n",
    "                    # 필\n",
    "                }\n",
    "\n",
    "                \n",
    "                documents.append(Document(page_content=page_content.strip(), metadata=metadata))\n",
    "                \n",
    "    except FileNotFoundError:\n",
    "        print(f\"오류: '{csv_file_path}' 파일을 찾을 수 없습니다.\")\n",
    "    except Exception as e:\n",
    "        print(f\"파일을 읽는 중 오류가 발생했습니다: {e}\")\n",
    "        \n",
    "    return documents\n"
   ]
  },
  {
   "cell_type": "code",
   "execution_count": null,
   "id": "1f963654-734b-4ea6-85cc-87f2ef13b2ff",
   "metadata": {},
   "outputs": [],
   "source": [
    "docs = create_documents_from_csv('./policies_with_documents.csv')"
   ]
  },
  {
   "cell_type": "code",
   "execution_count": null,
   "id": "bd7ccfd9-a6e3-454d-b6a2-43e1535dec09",
   "metadata": {
    "tags": []
   },
   "outputs": [],
   "source": [
    "def summ_docs_info(docs: list, num: int=5):\n",
    "    print(f'document의 총 개수 : {len(docs)}')\n",
    "    for i in docs[:num]:\n",
    "        print(f\"---Document ---\")\n",
    "        print(\"Page Content:\")\n",
    "        print(i.page_content)\n",
    "        print(\"\\nMetadata:\")\n",
    "        print(i.metadata)\n",
    "\n",
    "summ_docs_info(docs)"
   ]
  },
  {
   "cell_type": "code",
   "execution_count": null,
   "id": "7d5896cd-33b9-40dc-8a77-c7faf1f98d54",
   "metadata": {
    "tags": []
   },
   "outputs": [],
   "source": [
    "docs[:3]"
   ]
  },
  {
   "cell_type": "code",
   "execution_count": null,
   "id": "593968e0-5cd5-4326-beea-9776bedff01d",
   "metadata": {},
   "outputs": [],
   "source": [
    "# 청킹은 하지 않음. "
   ]
  },
  {
   "cell_type": "code",
   "execution_count": null,
   "id": "a809ab7f-9dab-43bf-bb8b-cfad5be8687a",
   "metadata": {},
   "outputs": [],
   "source": [
    "import pandas as pd\n",
    "d = pd.read_csv('./policies_with_documents.csv')\n",
    "print(d['plcyNo'])"
   ]
  },
  {
   "cell_type": "code",
   "execution_count": null,
   "id": "ede5467d-fbe4-43cb-8aba-02ac9fc782f6",
   "metadata": {
    "tags": []
   },
   "outputs": [],
   "source": [
    "# 임베딩\n",
    "import os \n",
    "from langchain_openai import OpenAIEmbeddings\n",
    "from dotenv import load_dotenv\n",
    "from langchain_chroma import Chroma\n",
    "load_dotenv()\n",
    "\n",
    "# 임베딩 모델 및 Chroma DB 준비\n",
    "# embedding_model = OpenAIEmbeddings(model=\"text-embedding-3-small\", openai_api_key=os.getenv(\"OPENAI_API_KEY\"))\n",
    "embedding_model = OpenAIEmbeddings(model=\"text-embedding-3-large\", openai_api_key=os.getenv(\"OPENAI_API_KEY\"))\n",
    "\n",
    "# Chroma DB 준비\n",
    "vectorstore = Chroma(\n",
    "    collection_name=\"policy_collection_summary_added_openai_large\",\n",
    "    embedding_function=embedding_model,\n",
    "    persist_directory=\"./chroma_db_policy\"\n",
    ")\n"
   ]
  },
  {
   "cell_type": "code",
   "execution_count": null,
   "id": "5e6a0b21-3d81-4fe7-8c4c-4843a77abd13",
   "metadata": {},
   "outputs": [],
   "source": [
    "# 데이터 처리\n",
    "def add_to_chroma_in_batches(docs: list[Document], batch_size: int = 100):\n",
    "    \"\"\"문서 리스트를 배치로 나누어 ChromaDB에 추가합니다.\"\"\"\n",
    "    \n",
    "    # 전체 문서 리스트를 batch_size만큼 건너뛰며 반복\n",
    "    for i in range(0, len(docs), batch_size):\n",
    "        # 현재 처리할 배치 슬라이싱\n",
    "        batch = docs[i:i + batch_size]\n",
    "        \n",
    "        # 현재 배치만 DB에 추가\n",
    "        vectorstore.add_documents(documents=batch)\n",
    "        \n",
    "        # 진행 상황 출력\n",
    "        print(f\"Batch {i//batch_size + 1}/{(len(docs) - 1)//batch_size + 1} 처리 완료 ({len(batch)}개 문서 추가)\")\n",
    "\n"
   ]
  },
  {
   "cell_type": "code",
   "execution_count": null,
   "id": "fddb4c60-6bb3-46b4-a66a-f7dccd580d0b",
   "metadata": {},
   "outputs": [],
   "source": [
    "\n",
    "# 함수 호출로 배치 처리 실행\n",
    "add_to_chroma_in_batches(docs, batch_size=200) # 배치 사이즈는 조절 가능\n",
    "\n",
    "print(\"\\n모든 문서의 배치 처리가 완료되었습니다.\")\n"
   ]
  },
  {
   "cell_type": "code",
   "execution_count": null,
   "id": "54474a35-3056-4866-ba3f-460874816e37",
   "metadata": {},
   "outputs": [],
   "source": [
    "import tiktoken\n",
    "from langchain_core.documents import Document\n",
    "\n",
    "def count_tokens(text, model=\"text-embedding-3-large\"):\n",
    "    # OpenAI 임베딩 모델들은 cl100k_base 인코딩 사용\n",
    "    encoding = tiktoken.get_encoding(\"cl100k_base\")\n",
    "    return len(encoding.encode(text))\n",
    "\n",
    "\n",
    "avg = 0;\n",
    "for i in docs:\n",
    "    token_count = count_tokens(i.page_content)\n",
    "    avg += token_count\n",
    "    if token_count >= 1000:\n",
    "        print(f\"토큰 수: {token_count}\")\n",
    "print(f\"총 토큰 수: {avg}\")\n",
    "\n"
   ]
  },
  {
   "cell_type": "code",
   "execution_count": null,
   "id": "a8b5e67a-7a65-4224-9cda-1ae225cbbc0e",
   "metadata": {},
   "outputs": [],
   "source": []
  },
  {
   "cell_type": "code",
   "execution_count": null,
   "id": "f2435103-ca42-4c12-b15d-5238dc8317a5",
   "metadata": {},
   "outputs": [],
   "source": []
  }
 ],
 "metadata": {
  "kernelspec": {
   "display_name": "langchain_spike",
   "language": "python",
   "name": "langchain_spike"
  },
  "language_info": {
   "codemirror_mode": {
    "name": "ipython",
    "version": 3
   },
   "file_extension": ".py",
   "mimetype": "text/x-python",
   "name": "python",
   "nbconvert_exporter": "python",
   "pygments_lexer": "ipython3",
   "version": "3.11.13"
  }
 },
 "nbformat": 4,
 "nbformat_minor": 5
}
